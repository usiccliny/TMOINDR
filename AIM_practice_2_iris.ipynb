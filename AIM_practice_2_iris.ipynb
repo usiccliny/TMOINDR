{
  "cells": [
    {
      "cell_type": "code",
      "source": [
        "import pandas as pd\n",
        "import numpy as np\n",
        "\n",
        "from matplotlib import pyplot as plt\n",
        "from sklearn.datasets import load_iris\n",
        "\n",
        "iris = load_iris()\n",
        "target_names = iris.target_names\n",
        "\n",
        "df = pd.DataFrame(iris.data, columns = iris.feature_names)\n",
        "df.describe()\n",
        "\n",
        "import seaborn as sb\n",
        "sb.heatmap(df.corr(), cmap=\"Blues\", annot=True)\n",
        "\n",
        "iris_data = iris.data[:, :2]\n",
        "\n",
        "from sklearn.model_selection import train_test_split\n",
        "X_train, X_test, y_train, y_test = train_test_split(iris_data, iris.target, test_size = 0.5, random_state = 0)\n",
        "\n",
        "from sklearn.preprocessing import MaxAbsScaler\n",
        "data_transformer = MaxAbsScaler().fit(X_train)\n",
        "X_train = data_transformer.transform(X_train)\n",
        "\n",
        "X_test=data_transformer.transform(X_test)\n",
        "X_test\n",
        "\n",
        "from sklearn.neighbors import KNeighborsClassifier\n",
        "from sklearn.metrics import confusion_matrix, accuracy_score\n",
        "\n",
        "classifier = KNeighborsClassifier(n_neighbors=1)\n",
        "\n",
        "classifier.fit(X_train, y_train)\n",
        "y_pred = classifier.predict(X_test)\n",
        "\n",
        "accuracy = accuracy_score(y_test, y_pred)\n",
        "accuracy"
      ],
      "metadata": {
        "colab": {
          "base_uri": "https://localhost:8080/"
        },
        "id": "Q-4giZE28y5Z",
        "outputId": "77419910-6d67-4b83-ea82-f59b2641d2c5"
      },
      "id": "Q-4giZE28y5Z",
      "execution_count": null,
      "outputs": [
        {
          "output_type": "execute_result",
          "data": {
            "text/plain": [
              "array(['setosa', 'versicolor', 'virginica'], dtype='<U10')"
            ]
          },
          "metadata": {},
          "execution_count": 2
        }
      ]
    },
    {
      "cell_type": "code",
      "execution_count": null,
      "id": "f8dea913",
      "metadata": {
        "id": "f8dea913"
      },
      "outputs": [],
      "source": [
        "import pandas as pd\n",
        "import numpy as np\n",
        "\n",
        "from matplotlib import pyplot as plt"
      ]
    },
    {
      "cell_type": "code",
      "execution_count": null,
      "id": "4a18e7e4",
      "metadata": {
        "id": "4a18e7e4"
      },
      "outputs": [],
      "source": [
        "from sklearn.datasets import load_iris\n",
        "\n",
        "iris = load_iris()"
      ]
    },
    {
      "cell_type": "code",
      "execution_count": null,
      "id": "f2cf5f97",
      "metadata": {
        "id": "f2cf5f97"
      },
      "outputs": [],
      "source": [
        "target_names = iris.target_names"
      ]
    },
    {
      "cell_type": "code",
      "execution_count": null,
      "id": "456514e7",
      "metadata": {
        "collapsed": true,
        "id": "456514e7",
        "outputId": "08cd4c90-5a05-4605-be03-15dc2fccd43d"
      },
      "outputs": [
        {
          "data": {
            "text/plain": [
              "array(['setosa', 'versicolor', 'virginica'], dtype='<U10')"
            ]
          },
          "execution_count": 4,
          "metadata": {},
          "output_type": "execute_result"
        }
      ],
      "source": [
        "target_names"
      ]
    },
    {
      "cell_type": "code",
      "execution_count": null,
      "id": "4c73d33e",
      "metadata": {
        "id": "4c73d33e"
      },
      "outputs": [],
      "source": [
        "df = pd.DataFrame(iris.data, columns = iris.feature_names)"
      ]
    },
    {
      "cell_type": "code",
      "execution_count": null,
      "id": "9b9dcff5",
      "metadata": {
        "collapsed": true,
        "id": "9b9dcff5",
        "outputId": "0403c995-82c5-4dab-87b7-2a72a1029c01"
      },
      "outputs": [
        {
          "data": {
            "text/html": [
              "<div>\n",
              "<style scoped>\n",
              "    .dataframe tbody tr th:only-of-type {\n",
              "        vertical-align: middle;\n",
              "    }\n",
              "\n",
              "    .dataframe tbody tr th {\n",
              "        vertical-align: top;\n",
              "    }\n",
              "\n",
              "    .dataframe thead th {\n",
              "        text-align: right;\n",
              "    }\n",
              "</style>\n",
              "<table border=\"1\" class=\"dataframe\">\n",
              "  <thead>\n",
              "    <tr style=\"text-align: right;\">\n",
              "      <th></th>\n",
              "      <th>sepal length (cm)</th>\n",
              "      <th>sepal width (cm)</th>\n",
              "      <th>petal length (cm)</th>\n",
              "      <th>petal width (cm)</th>\n",
              "    </tr>\n",
              "  </thead>\n",
              "  <tbody>\n",
              "    <tr>\n",
              "      <th>0</th>\n",
              "      <td>5.1</td>\n",
              "      <td>3.5</td>\n",
              "      <td>1.4</td>\n",
              "      <td>0.2</td>\n",
              "    </tr>\n",
              "    <tr>\n",
              "      <th>1</th>\n",
              "      <td>4.9</td>\n",
              "      <td>3.0</td>\n",
              "      <td>1.4</td>\n",
              "      <td>0.2</td>\n",
              "    </tr>\n",
              "    <tr>\n",
              "      <th>2</th>\n",
              "      <td>4.7</td>\n",
              "      <td>3.2</td>\n",
              "      <td>1.3</td>\n",
              "      <td>0.2</td>\n",
              "    </tr>\n",
              "    <tr>\n",
              "      <th>3</th>\n",
              "      <td>4.6</td>\n",
              "      <td>3.1</td>\n",
              "      <td>1.5</td>\n",
              "      <td>0.2</td>\n",
              "    </tr>\n",
              "    <tr>\n",
              "      <th>4</th>\n",
              "      <td>5.0</td>\n",
              "      <td>3.6</td>\n",
              "      <td>1.4</td>\n",
              "      <td>0.2</td>\n",
              "    </tr>\n",
              "    <tr>\n",
              "      <th>...</th>\n",
              "      <td>...</td>\n",
              "      <td>...</td>\n",
              "      <td>...</td>\n",
              "      <td>...</td>\n",
              "    </tr>\n",
              "    <tr>\n",
              "      <th>145</th>\n",
              "      <td>6.7</td>\n",
              "      <td>3.0</td>\n",
              "      <td>5.2</td>\n",
              "      <td>2.3</td>\n",
              "    </tr>\n",
              "    <tr>\n",
              "      <th>146</th>\n",
              "      <td>6.3</td>\n",
              "      <td>2.5</td>\n",
              "      <td>5.0</td>\n",
              "      <td>1.9</td>\n",
              "    </tr>\n",
              "    <tr>\n",
              "      <th>147</th>\n",
              "      <td>6.5</td>\n",
              "      <td>3.0</td>\n",
              "      <td>5.2</td>\n",
              "      <td>2.0</td>\n",
              "    </tr>\n",
              "    <tr>\n",
              "      <th>148</th>\n",
              "      <td>6.2</td>\n",
              "      <td>3.4</td>\n",
              "      <td>5.4</td>\n",
              "      <td>2.3</td>\n",
              "    </tr>\n",
              "    <tr>\n",
              "      <th>149</th>\n",
              "      <td>5.9</td>\n",
              "      <td>3.0</td>\n",
              "      <td>5.1</td>\n",
              "      <td>1.8</td>\n",
              "    </tr>\n",
              "  </tbody>\n",
              "</table>\n",
              "<p>150 rows × 4 columns</p>\n",
              "</div>"
            ],
            "text/plain": [
              "     sepal length (cm)  sepal width (cm)  petal length (cm)  petal width (cm)\n",
              "0                  5.1               3.5                1.4               0.2\n",
              "1                  4.9               3.0                1.4               0.2\n",
              "2                  4.7               3.2                1.3               0.2\n",
              "3                  4.6               3.1                1.5               0.2\n",
              "4                  5.0               3.6                1.4               0.2\n",
              "..                 ...               ...                ...               ...\n",
              "145                6.7               3.0                5.2               2.3\n",
              "146                6.3               2.5                5.0               1.9\n",
              "147                6.5               3.0                5.2               2.0\n",
              "148                6.2               3.4                5.4               2.3\n",
              "149                5.9               3.0                5.1               1.8\n",
              "\n",
              "[150 rows x 4 columns]"
            ]
          },
          "execution_count": 6,
          "metadata": {},
          "output_type": "execute_result"
        }
      ],
      "source": [
        "df"
      ]
    },
    {
      "cell_type": "code",
      "execution_count": null,
      "id": "91464d5c",
      "metadata": {
        "scrolled": false,
        "collapsed": true,
        "id": "91464d5c",
        "outputId": "a0706743-8891-4494-ce91-80c0c36b7523"
      },
      "outputs": [
        {
          "data": {
            "text/html": [
              "<div>\n",
              "<style scoped>\n",
              "    .dataframe tbody tr th:only-of-type {\n",
              "        vertical-align: middle;\n",
              "    }\n",
              "\n",
              "    .dataframe tbody tr th {\n",
              "        vertical-align: top;\n",
              "    }\n",
              "\n",
              "    .dataframe thead th {\n",
              "        text-align: right;\n",
              "    }\n",
              "</style>\n",
              "<table border=\"1\" class=\"dataframe\">\n",
              "  <thead>\n",
              "    <tr style=\"text-align: right;\">\n",
              "      <th></th>\n",
              "      <th>sepal length (cm)</th>\n",
              "      <th>sepal width (cm)</th>\n",
              "      <th>petal length (cm)</th>\n",
              "      <th>petal width (cm)</th>\n",
              "    </tr>\n",
              "  </thead>\n",
              "  <tbody>\n",
              "    <tr>\n",
              "      <th>count</th>\n",
              "      <td>150.000000</td>\n",
              "      <td>150.000000</td>\n",
              "      <td>150.000000</td>\n",
              "      <td>150.000000</td>\n",
              "    </tr>\n",
              "    <tr>\n",
              "      <th>mean</th>\n",
              "      <td>5.843333</td>\n",
              "      <td>3.057333</td>\n",
              "      <td>3.758000</td>\n",
              "      <td>1.199333</td>\n",
              "    </tr>\n",
              "    <tr>\n",
              "      <th>std</th>\n",
              "      <td>0.828066</td>\n",
              "      <td>0.435866</td>\n",
              "      <td>1.765298</td>\n",
              "      <td>0.762238</td>\n",
              "    </tr>\n",
              "    <tr>\n",
              "      <th>min</th>\n",
              "      <td>4.300000</td>\n",
              "      <td>2.000000</td>\n",
              "      <td>1.000000</td>\n",
              "      <td>0.100000</td>\n",
              "    </tr>\n",
              "    <tr>\n",
              "      <th>25%</th>\n",
              "      <td>5.100000</td>\n",
              "      <td>2.800000</td>\n",
              "      <td>1.600000</td>\n",
              "      <td>0.300000</td>\n",
              "    </tr>\n",
              "    <tr>\n",
              "      <th>50%</th>\n",
              "      <td>5.800000</td>\n",
              "      <td>3.000000</td>\n",
              "      <td>4.350000</td>\n",
              "      <td>1.300000</td>\n",
              "    </tr>\n",
              "    <tr>\n",
              "      <th>75%</th>\n",
              "      <td>6.400000</td>\n",
              "      <td>3.300000</td>\n",
              "      <td>5.100000</td>\n",
              "      <td>1.800000</td>\n",
              "    </tr>\n",
              "    <tr>\n",
              "      <th>max</th>\n",
              "      <td>7.900000</td>\n",
              "      <td>4.400000</td>\n",
              "      <td>6.900000</td>\n",
              "      <td>2.500000</td>\n",
              "    </tr>\n",
              "  </tbody>\n",
              "</table>\n",
              "</div>"
            ],
            "text/plain": [
              "       sepal length (cm)  sepal width (cm)  petal length (cm)   \n",
              "count         150.000000        150.000000         150.000000  \\\n",
              "mean            5.843333          3.057333           3.758000   \n",
              "std             0.828066          0.435866           1.765298   \n",
              "min             4.300000          2.000000           1.000000   \n",
              "25%             5.100000          2.800000           1.600000   \n",
              "50%             5.800000          3.000000           4.350000   \n",
              "75%             6.400000          3.300000           5.100000   \n",
              "max             7.900000          4.400000           6.900000   \n",
              "\n",
              "       petal width (cm)  \n",
              "count        150.000000  \n",
              "mean           1.199333  \n",
              "std            0.762238  \n",
              "min            0.100000  \n",
              "25%            0.300000  \n",
              "50%            1.300000  \n",
              "75%            1.800000  \n",
              "max            2.500000  "
            ]
          },
          "execution_count": 7,
          "metadata": {},
          "output_type": "execute_result"
        }
      ],
      "source": [
        "df.describe()"
      ]
    },
    {
      "cell_type": "code",
      "execution_count": null,
      "id": "32ebb635",
      "metadata": {
        "collapsed": true,
        "id": "32ebb635",
        "outputId": "ee1c858c-ed6f-4681-fab1-4641c896de7b"
      },
      "outputs": [
        {
          "data": {
            "text/plain": [
              "False"
            ]
          },
          "execution_count": 8,
          "metadata": {},
          "output_type": "execute_result"
        }
      ],
      "source": [
        "df.isnull().values.any()"
      ]
    },
    {
      "cell_type": "code",
      "execution_count": null,
      "id": "eb9d6791",
      "metadata": {
        "scrolled": true,
        "collapsed": true,
        "id": "eb9d6791",
        "outputId": "a65913bb-78b0-4ec5-9ad7-3adcb5985656"
      },
      "outputs": [
        {
          "data": {
            "text/plain": [
              "<AxesSubplot: >"
            ]
          },
          "execution_count": 9,
          "metadata": {},
          "output_type": "execute_result"
        },
        {
          "data": {
            "image/png": "[encoded data removed]",
            "text/plain": [
              "<Figure size 432x288 with 2 Axes>"
            ]
          },
          "metadata": {
            "needs_background": "light"
          },
          "output_type": "display_data"
        }
      ],
      "source": [
        "import seaborn as sb\n",
        "sb.heatmap(df.corr(), cmap=\"Blues\", annot=True)"
      ]
    },
    {
      "cell_type": "code",
      "execution_count": null,
      "id": "32afddc3",
      "metadata": {
        "collapsed": true,
        "id": "32afddc3",
        "outputId": "405506fe-be08-4ed5-a5a4-32b97e65f914"
      },
      "outputs": [
        {
          "data": {
            "text/html": [
              "<div>\n",
              "<style scoped>\n",
              "    .dataframe tbody tr th:only-of-type {\n",
              "        vertical-align: middle;\n",
              "    }\n",
              "\n",
              "    .dataframe tbody tr th {\n",
              "        vertical-align: top;\n",
              "    }\n",
              "\n",
              "    .dataframe thead th {\n",
              "        text-align: right;\n",
              "    }\n",
              "</style>\n",
              "<table border=\"1\" class=\"dataframe\">\n",
              "  <thead>\n",
              "    <tr style=\"text-align: right;\">\n",
              "      <th></th>\n",
              "      <th>sepal length (cm)</th>\n",
              "      <th>sepal width (cm)</th>\n",
              "      <th>petal length (cm)</th>\n",
              "      <th>petal width (cm)</th>\n",
              "    </tr>\n",
              "  </thead>\n",
              "  <tbody>\n",
              "    <tr>\n",
              "      <th>sepal length (cm)</th>\n",
              "      <td>1.000000</td>\n",
              "      <td>-0.117570</td>\n",
              "      <td>0.871754</td>\n",
              "      <td>0.817941</td>\n",
              "    </tr>\n",
              "    <tr>\n",
              "      <th>sepal width (cm)</th>\n",
              "      <td>-0.117570</td>\n",
              "      <td>1.000000</td>\n",
              "      <td>-0.428440</td>\n",
              "      <td>-0.366126</td>\n",
              "    </tr>\n",
              "    <tr>\n",
              "      <th>petal length (cm)</th>\n",
              "      <td>0.871754</td>\n",
              "      <td>-0.428440</td>\n",
              "      <td>1.000000</td>\n",
              "      <td>0.962865</td>\n",
              "    </tr>\n",
              "    <tr>\n",
              "      <th>petal width (cm)</th>\n",
              "      <td>0.817941</td>\n",
              "      <td>-0.366126</td>\n",
              "      <td>0.962865</td>\n",
              "      <td>1.000000</td>\n",
              "    </tr>\n",
              "  </tbody>\n",
              "</table>\n",
              "</div>"
            ],
            "text/plain": [
              "                   sepal length (cm)  sepal width (cm)  petal length (cm)   \n",
              "sepal length (cm)           1.000000         -0.117570           0.871754  \\\n",
              "sepal width (cm)           -0.117570          1.000000          -0.428440   \n",
              "petal length (cm)           0.871754         -0.428440           1.000000   \n",
              "petal width (cm)            0.817941         -0.366126           0.962865   \n",
              "\n",
              "                   petal width (cm)  \n",
              "sepal length (cm)          0.817941  \n",
              "sepal width (cm)          -0.366126  \n",
              "petal length (cm)          0.962865  \n",
              "petal width (cm)           1.000000  "
            ]
          },
          "execution_count": 10,
          "metadata": {},
          "output_type": "execute_result"
        }
      ],
      "source": [
        "df.corr()"
      ]
    },
    {
      "cell_type": "code",
      "execution_count": null,
      "id": "c8eb7931",
      "metadata": {
        "id": "c8eb7931"
      },
      "outputs": [],
      "source": [
        "iris_data = iris.data[:, :2]"
      ]
    },
    {
      "cell_type": "code",
      "execution_count": null,
      "id": "94ab0e7e",
      "metadata": {
        "collapsed": true,
        "id": "94ab0e7e",
        "outputId": "10befc86-cc19-4beb-a109-888596f1f78c"
      },
      "outputs": [
        {
          "data": {
            "text/plain": [
              "array([[5.1, 3.5],\n",
              "       [4.9, 3. ],\n",
              "       [4.7, 3.2],\n",
              "       [4.6, 3.1],\n",
              "       [5. , 3.6],\n",
              "       [5.4, 3.9],\n",
              "       [4.6, 3.4],\n",
              "       [5. , 3.4],\n",
              "       [4.4, 2.9],\n",
              "       [4.9, 3.1],\n",
              "       [5.4, 3.7],\n",
              "       [4.8, 3.4],\n",
              "       [4.8, 3. ],\n",
              "       [4.3, 3. ],\n",
              "       [5.8, 4. ],\n",
              "       [5.7, 4.4],\n",
              "       [5.4, 3.9],\n",
              "       [5.1, 3.5],\n",
              "       [5.7, 3.8],\n",
              "       [5.1, 3.8],\n",
              "       [5.4, 3.4],\n",
              "       [5.1, 3.7],\n",
              "       [4.6, 3.6],\n",
              "       [5.1, 3.3],\n",
              "       [4.8, 3.4],\n",
              "       [5. , 3. ],\n",
              "       [5. , 3.4],\n",
              "       [5.2, 3.5],\n",
              "       [5.2, 3.4],\n",
              "       [4.7, 3.2],\n",
              "       [4.8, 3.1],\n",
              "       [5.4, 3.4],\n",
              "       [5.2, 4.1],\n",
              "       [5.5, 4.2],\n",
              "       [4.9, 3.1],\n",
              "       [5. , 3.2],\n",
              "       [5.5, 3.5],\n",
              "       [4.9, 3.6],\n",
              "       [4.4, 3. ],\n",
              "       [5.1, 3.4],\n",
              "       [5. , 3.5],\n",
              "       [4.5, 2.3],\n",
              "       [4.4, 3.2],\n",
              "       [5. , 3.5],\n",
              "       [5.1, 3.8],\n",
              "       [4.8, 3. ],\n",
              "       [5.1, 3.8],\n",
              "       [4.6, 3.2],\n",
              "       [5.3, 3.7],\n",
              "       [5. , 3.3],\n",
              "       [7. , 3.2],\n",
              "       [6.4, 3.2],\n",
              "       [6.9, 3.1],\n",
              "       [5.5, 2.3],\n",
              "       [6.5, 2.8],\n",
              "       [5.7, 2.8],\n",
              "       [6.3, 3.3],\n",
              "       [4.9, 2.4],\n",
              "       [6.6, 2.9],\n",
              "       [5.2, 2.7],\n",
              "       [5. , 2. ],\n",
              "       [5.9, 3. ],\n",
              "       [6. , 2.2],\n",
              "       [6.1, 2.9],\n",
              "       [5.6, 2.9],\n",
              "       [6.7, 3.1],\n",
              "       [5.6, 3. ],\n",
              "       [5.8, 2.7],\n",
              "       [6.2, 2.2],\n",
              "       [5.6, 2.5],\n",
              "       [5.9, 3.2],\n",
              "       [6.1, 2.8],\n",
              "       [6.3, 2.5],\n",
              "       [6.1, 2.8],\n",
              "       [6.4, 2.9],\n",
              "       [6.6, 3. ],\n",
              "       [6.8, 2.8],\n",
              "       [6.7, 3. ],\n",
              "       [6. , 2.9],\n",
              "       [5.7, 2.6],\n",
              "       [5.5, 2.4],\n",
              "       [5.5, 2.4],\n",
              "       [5.8, 2.7],\n",
              "       [6. , 2.7],\n",
              "       [5.4, 3. ],\n",
              "       [6. , 3.4],\n",
              "       [6.7, 3.1],\n",
              "       [6.3, 2.3],\n",
              "       [5.6, 3. ],\n",
              "       [5.5, 2.5],\n",
              "       [5.5, 2.6],\n",
              "       [6.1, 3. ],\n",
              "       [5.8, 2.6],\n",
              "       [5. , 2.3],\n",
              "       [5.6, 2.7],\n",
              "       [5.7, 3. ],\n",
              "       [5.7, 2.9],\n",
              "       [6.2, 2.9],\n",
              "       [5.1, 2.5],\n",
              "       [5.7, 2.8],\n",
              "       [6.3, 3.3],\n",
              "       [5.8, 2.7],\n",
              "       [7.1, 3. ],\n",
              "       [6.3, 2.9],\n",
              "       [6.5, 3. ],\n",
              "       [7.6, 3. ],\n",
              "       [4.9, 2.5],\n",
              "       [7.3, 2.9],\n",
              "       [6.7, 2.5],\n",
              "       [7.2, 3.6],\n",
              "       [6.5, 3.2],\n",
              "       [6.4, 2.7],\n",
              "       [6.8, 3. ],\n",
              "       [5.7, 2.5],\n",
              "       [5.8, 2.8],\n",
              "       [6.4, 3.2],\n",
              "       [6.5, 3. ],\n",
              "       [7.7, 3.8],\n",
              "       [7.7, 2.6],\n",
              "       [6. , 2.2],\n",
              "       [6.9, 3.2],\n",
              "       [5.6, 2.8],\n",
              "       [7.7, 2.8],\n",
              "       [6.3, 2.7],\n",
              "       [6.7, 3.3],\n",
              "       [7.2, 3.2],\n",
              "       [6.2, 2.8],\n",
              "       [6.1, 3. ],\n",
              "       [6.4, 2.8],\n",
              "       [7.2, 3. ],\n",
              "       [7.4, 2.8],\n",
              "       [7.9, 3.8],\n",
              "       [6.4, 2.8],\n",
              "       [6.3, 2.8],\n",
              "       [6.1, 2.6],\n",
              "       [7.7, 3. ],\n",
              "       [6.3, 3.4],\n",
              "       [6.4, 3.1],\n",
              "       [6. , 3. ],\n",
              "       [6.9, 3.1],\n",
              "       [6.7, 3.1],\n",
              "       [6.9, 3.1],\n",
              "       [5.8, 2.7],\n",
              "       [6.8, 3.2],\n",
              "       [6.7, 3.3],\n",
              "       [6.7, 3. ],\n",
              "       [6.3, 2.5],\n",
              "       [6.5, 3. ],\n",
              "       [6.2, 3.4],\n",
              "       [5.9, 3. ]])"
            ]
          },
          "execution_count": 12,
          "metadata": {},
          "output_type": "execute_result"
        }
      ],
      "source": [
        "iris_data"
      ]
    },
    {
      "cell_type": "code",
      "execution_count": null,
      "id": "f10d3cf4",
      "metadata": {
        "collapsed": true,
        "id": "f10d3cf4",
        "outputId": "7b931c0c-d3cc-42ce-de8c-c4fdb9ff64bc"
      },
      "outputs": [
        {
          "data": {
            "text/plain": [
              "array([0, 0, 0, 0, 0, 0, 0, 0, 0, 0, 0, 0, 0, 0, 0, 0, 0, 0, 0, 0, 0, 0,\n",
              "       0, 0, 0, 0, 0, 0, 0, 0, 0, 0, 0, 0, 0, 0, 0, 0, 0, 0, 0, 0, 0, 0,\n",
              "       0, 0, 0, 0, 0, 0, 1, 1, 1, 1, 1, 1, 1, 1, 1, 1, 1, 1, 1, 1, 1, 1,\n",
              "       1, 1, 1, 1, 1, 1, 1, 1, 1, 1, 1, 1, 1, 1, 1, 1, 1, 1, 1, 1, 1, 1,\n",
              "       1, 1, 1, 1, 1, 1, 1, 1, 1, 1, 1, 1, 2, 2, 2, 2, 2, 2, 2, 2, 2, 2,\n",
              "       2, 2, 2, 2, 2, 2, 2, 2, 2, 2, 2, 2, 2, 2, 2, 2, 2, 2, 2, 2, 2, 2,\n",
              "       2, 2, 2, 2, 2, 2, 2, 2, 2, 2, 2, 2, 2, 2, 2, 2, 2, 2])"
            ]
          },
          "execution_count": 13,
          "metadata": {},
          "output_type": "execute_result"
        }
      ],
      "source": [
        "iris.target"
      ]
    },
    {
      "cell_type": "code",
      "execution_count": null,
      "id": "0af4efae",
      "metadata": {
        "id": "0af4efae",
        "outputId": "0083a2f8-211c-45f7-d4fa-82ae789da196"
      },
      "outputs": [
        {
          "data": {
            "text/plain": [
              "150"
            ]
          },
          "execution_count": 14,
          "metadata": {},
          "output_type": "execute_result"
        }
      ],
      "source": [
        "len(iris.data)"
      ]
    },
    {
      "cell_type": "code",
      "execution_count": null,
      "id": "b66e2a1b",
      "metadata": {
        "id": "b66e2a1b"
      },
      "outputs": [],
      "source": [
        "from sklearn.model_selection import train_test_split\n",
        "X_train, X_test, y_train, y_test = train_test_split(iris_data, iris.target, test_size = 0.5, random_state = 0)"
      ]
    },
    {
      "cell_type": "code",
      "execution_count": null,
      "id": "b2c7e614",
      "metadata": {
        "id": "b2c7e614"
      },
      "outputs": [],
      "source": [
        "#Scale each feature by its maximum absolute value.\n",
        "from sklearn.preprocessing import MaxAbsScaler\n",
        "data_transformer = MaxAbsScaler().fit(X_train)\n",
        "X_train = data_transformer.transform(X_train)"
      ]
    },
    {
      "cell_type": "code",
      "execution_count": null,
      "id": "25e0c684",
      "metadata": {
        "collapsed": true,
        "id": "25e0c684",
        "outputId": "701f47ce-050c-4a72-b0f3-d210948bc9ef"
      },
      "outputs": [
        {
          "data": {
            "text/plain": [
              "array([[0.58227848, 0.75609756],\n",
              "       [0.74683544, 0.73170732],\n",
              "       [0.64556962, 0.6097561 ],\n",
              "       [0.58227848, 0.82926829],\n",
              "       [0.78481013, 0.53658537],\n",
              "       [0.91139241, 0.87804878],\n",
              "       [0.72151899, 0.70731707],\n",
              "       [0.60759494, 0.73170732],\n",
              "       [0.89873418, 0.73170732],\n",
              "       [0.87341772, 0.7804878 ],\n",
              "       [0.82278481, 0.73170732],\n",
              "       [0.81012658, 0.68292683],\n",
              "       [0.64556962, 0.92682927],\n",
              "       [0.60759494, 0.82926829],\n",
              "       [0.82278481, 0.7804878 ],\n",
              "       [0.84810127, 0.80487805],\n",
              "       [0.56962025, 0.56097561],\n",
              "       [0.78481013, 0.82926829],\n",
              "       [0.62025316, 0.73170732],\n",
              "       [0.72151899, 0.6097561 ],\n",
              "       [0.87341772, 0.75609756],\n",
              "       [0.55696203, 0.7804878 ],\n",
              "       [0.63291139, 0.87804878],\n",
              "       [0.91139241, 0.73170732],\n",
              "       [0.64556962, 0.85365854],\n",
              "       [0.55696203, 0.73170732],\n",
              "       [0.6835443 , 0.95121951],\n",
              "       [0.69620253, 0.56097561],\n",
              "       [0.86075949, 0.7804878 ],\n",
              "       [0.96202532, 0.73170732],\n",
              "       [0.64556962, 0.85365854],\n",
              "       [0.62025316, 0.75609756],\n",
              "       [0.65822785, 0.82926829],\n",
              "       [0.72151899, 0.68292683],\n",
              "       [0.83544304, 0.73170732],\n",
              "       [0.63291139, 0.7804878 ],\n",
              "       [0.64556962, 0.80487805],\n",
              "       [0.81012658, 0.70731707],\n",
              "       [0.6835443 , 0.82926829],\n",
              "       [0.97468354, 0.63414634],\n",
              "       [0.62025316, 0.58536585],\n",
              "       [1.        , 0.92682927],\n",
              "       [0.84810127, 0.75609756],\n",
              "       [0.65822785, 1.        ],\n",
              "       [0.75949367, 0.73170732],\n",
              "       [0.73417722, 0.97560976],\n",
              "       [0.97468354, 0.68292683],\n",
              "       [0.64556962, 0.92682927],\n",
              "       [0.59493671, 0.7804878 ],\n",
              "       [0.93670886, 0.68292683],\n",
              "       [0.63291139, 0.80487805],\n",
              "       [0.79746835, 0.82926829],\n",
              "       [0.72151899, 0.68292683],\n",
              "       [0.73417722, 0.65853659],\n",
              "       [0.72151899, 0.63414634],\n",
              "       [0.81012658, 0.7804878 ],\n",
              "       [0.84810127, 0.73170732],\n",
              "       [0.79746835, 0.6097561 ],\n",
              "       [0.84810127, 0.73170732],\n",
              "       [0.63291139, 0.73170732],\n",
              "       [0.69620253, 0.58536585],\n",
              "       [0.84810127, 0.75609756],\n",
              "       [0.73417722, 0.65853659],\n",
              "       [0.64556962, 0.82926829],\n",
              "       [0.83544304, 0.70731707],\n",
              "       [0.70886076, 0.73170732],\n",
              "       [0.74683544, 0.7804878 ],\n",
              "       [0.79746835, 0.56097561],\n",
              "       [0.69620253, 0.85365854],\n",
              "       [0.64556962, 0.90243902],\n",
              "       [0.62025316, 0.75609756],\n",
              "       [0.79746835, 0.70731707],\n",
              "       [0.73417722, 0.65853659],\n",
              "       [0.97468354, 0.92682927],\n",
              "       [0.58227848, 0.7804878 ]])"
            ]
          },
          "execution_count": 17,
          "metadata": {},
          "output_type": "execute_result"
        }
      ],
      "source": [
        "X_train"
      ]
    },
    {
      "cell_type": "code",
      "execution_count": null,
      "id": "c9b9328a",
      "metadata": {
        "collapsed": true,
        "id": "c9b9328a",
        "outputId": "76cd7624-e64f-4285-b4e5-88a2cec887d8"
      },
      "outputs": [
        {
          "data": {
            "text/plain": [
              "array([[0.73417722, 0.68292683],\n",
              "       [0.75949367, 0.53658537],\n",
              "       [0.69620253, 1.02439024],\n",
              "       [0.92405063, 0.70731707],\n",
              "       [0.63291139, 0.82926829],\n",
              "       [0.79746835, 0.80487805],\n",
              "       [0.63291139, 0.85365854],\n",
              "       [0.84810127, 0.75609756],\n",
              "       [0.86075949, 0.68292683],\n",
              "       [0.7721519 , 0.68292683],\n",
              "       [0.7721519 , 0.63414634],\n",
              "       [0.81012658, 0.7804878 ],\n",
              "       [0.7721519 , 0.68292683],\n",
              "       [0.82278481, 0.68292683],\n",
              "       [0.7721519 , 0.70731707],\n",
              "       [0.62025316, 0.87804878],\n",
              "       [0.75949367, 0.70731707],\n",
              "       [0.69620253, 0.63414634],\n",
              "       [0.60759494, 0.73170732],\n",
              "       [0.6835443 , 0.95121951],\n",
              "       [0.70886076, 0.68292683],\n",
              "       [0.70886076, 0.73170732],\n",
              "       [0.60759494, 0.82926829],\n",
              "       [0.55696203, 0.70731707],\n",
              "       [0.78481013, 0.68292683],\n",
              "       [0.58227848, 0.87804878],\n",
              "       [0.64556962, 0.92682927],\n",
              "       [0.78481013, 0.70731707],\n",
              "       [0.63291139, 0.56097561],\n",
              "       [0.63291139, 0.82926829],\n",
              "       [0.81012658, 0.75609756],\n",
              "       [0.6835443 , 0.73170732],\n",
              "       [0.65822785, 0.85365854],\n",
              "       [0.7721519 , 0.73170732],\n",
              "       [0.81012658, 0.68292683],\n",
              "       [0.65822785, 0.65853659],\n",
              "       [0.72151899, 0.92682927],\n",
              "       [0.75949367, 0.65853659],\n",
              "       [0.74683544, 0.73170732],\n",
              "       [0.73417722, 0.63414634],\n",
              "       [0.86075949, 0.73170732],\n",
              "       [0.59493671, 0.7804878 ],\n",
              "       [0.87341772, 0.75609756],\n",
              "       [0.63291139, 0.85365854],\n",
              "       [0.6835443 , 0.90243902],\n",
              "       [0.63291139, 0.48780488],\n",
              "       [0.82278481, 0.73170732],\n",
              "       [0.84810127, 0.80487805],\n",
              "       [0.75949367, 0.53658537],\n",
              "       [0.84810127, 0.6097561 ],\n",
              "       [0.70886076, 0.6097561 ],\n",
              "       [0.97468354, 0.73170732],\n",
              "       [0.79746835, 0.80487805],\n",
              "       [0.69620253, 0.58536585],\n",
              "       [0.79746835, 0.65853659],\n",
              "       [0.79746835, 0.68292683],\n",
              "       [0.62025316, 0.6097561 ],\n",
              "       [0.79746835, 0.6097561 ],\n",
              "       [0.88607595, 0.7804878 ],\n",
              "       [0.82278481, 0.73170732],\n",
              "       [0.75949367, 0.82926829],\n",
              "       [0.60759494, 0.75609756],\n",
              "       [0.73417722, 0.65853659],\n",
              "       [0.70886076, 0.65853659],\n",
              "       [0.70886076, 0.70731707],\n",
              "       [0.69620253, 0.6097561 ],\n",
              "       [0.7721519 , 0.73170732],\n",
              "       [0.91139241, 0.7804878 ],\n",
              "       [0.67088608, 0.90243902],\n",
              "       [0.5443038 , 0.73170732],\n",
              "       [0.81012658, 0.65853659],\n",
              "       [0.72151899, 0.73170732],\n",
              "       [0.6835443 , 0.82926829],\n",
              "       [0.72151899, 1.07317073],\n",
              "       [0.87341772, 0.75609756]])"
            ]
          },
          "execution_count": 18,
          "metadata": {},
          "output_type": "execute_result"
        }
      ],
      "source": [
        "X_test=data_transformer.transform(X_test)\n",
        "X_test"
      ]
    },
    {
      "cell_type": "code",
      "execution_count": null,
      "id": "05170544",
      "metadata": {
        "id": "05170544"
      },
      "outputs": [],
      "source": [
        "from sklearn.neighbors import KNeighborsClassifier\n",
        "from sklearn.metrics import confusion_matrix, accuracy_score\n",
        "\n",
        "classifier = KNeighborsClassifier(n_neighbors=1)\n",
        "\n",
        "classifier.fit(X_train, y_train)\n",
        "y_pred = classifier.predict(X_test)"
      ]
    },
    {
      "cell_type": "code",
      "execution_count": null,
      "id": "8175eaf3",
      "metadata": {
        "collapsed": true,
        "id": "8175eaf3",
        "outputId": "5152696c-2bbd-4987-bd3c-e5cc01281e41"
      },
      "outputs": [
        {
          "data": {
            "text/plain": [
              "array([1, 1, 0, 2, 0, 2, 0, 1, 1, 2, 1, 2, 2, 2, 2, 0, 2, 1, 0, 0, 1, 1,\n",
              "       0, 0, 2, 0, 0, 2, 1, 0, 2, 1, 0, 2, 2, 1, 0, 1, 2, 1, 1, 0, 2, 0,\n",
              "       0, 0, 2, 2, 1, 1, 2, 2, 2, 1, 2, 2, 1, 1, 2, 2, 2, 0, 1, 1, 1, 1,\n",
              "       2, 2, 0, 0, 2, 1, 0, 0, 2])"
            ]
          },
          "execution_count": 20,
          "metadata": {},
          "output_type": "execute_result"
        }
      ],
      "source": [
        "y_pred"
      ]
    },
    {
      "cell_type": "code",
      "execution_count": null,
      "id": "e2ece427",
      "metadata": {
        "id": "e2ece427",
        "outputId": "65bb0091-1519-4782-f7d1-83b56612982d"
      },
      "outputs": [
        {
          "data": {
            "text/plain": [
              "array([[21,  0,  0],\n",
              "       [ 1, 15, 14],\n",
              "       [ 0,  9, 15]], dtype=int64)"
            ]
          },
          "execution_count": 21,
          "metadata": {},
          "output_type": "execute_result"
        }
      ],
      "source": [
        "confusion_matrix(y_test, y_pred)"
      ]
    },
    {
      "cell_type": "code",
      "execution_count": null,
      "id": "9895c2d4",
      "metadata": {
        "id": "9895c2d4",
        "outputId": "74244b43-8518-42b5-ba53-a666aa263213"
      },
      "outputs": [
        {
          "data": {
            "text/plain": [
              "0.68"
            ]
          },
          "execution_count": 37,
          "metadata": {},
          "output_type": "execute_result"
        }
      ],
      "source": [
        "accuracy = accuracy_score(y_test, y_pred)\n",
        "accuracy"
      ]
    },
    {
      "cell_type": "code",
      "execution_count": null,
      "id": "24ecb903",
      "metadata": {
        "collapsed": true,
        "id": "24ecb903",
        "outputId": "9ad27bfc-e87b-4521-de8a-e364b87bfdc6"
      },
      "outputs": [
        {
          "name": "stdout",
          "output_type": "stream",
          "text": [
            "[[0. 1. 0.]\n",
            " [0. 1. 0.]\n",
            " [1. 0. 0.]\n",
            " [0. 0. 1.]\n",
            " [1. 0. 0.]\n",
            " [0. 0. 1.]\n",
            " [1. 0. 0.]\n",
            " [0. 1. 0.]\n",
            " [0. 1. 0.]\n",
            " [0. 0. 1.]\n",
            " [0. 1. 0.]\n",
            " [0. 0. 1.]\n",
            " [0. 0. 1.]\n",
            " [0. 0. 1.]\n",
            " [0. 0. 1.]\n",
            " [1. 0. 0.]\n",
            " [0. 0. 1.]\n",
            " [0. 1. 0.]\n",
            " [1. 0. 0.]\n",
            " [1. 0. 0.]\n",
            " [0. 1. 0.]\n",
            " [0. 1. 0.]\n",
            " [1. 0. 0.]\n",
            " [1. 0. 0.]\n",
            " [0. 0. 1.]\n",
            " [1. 0. 0.]\n",
            " [1. 0. 0.]\n",
            " [0. 0. 1.]\n",
            " [0. 1. 0.]\n",
            " [1. 0. 0.]\n",
            " [0. 0. 1.]\n",
            " [0. 1. 0.]\n",
            " [1. 0. 0.]\n",
            " [0. 0. 1.]\n",
            " [0. 0. 1.]\n",
            " [0. 1. 0.]\n",
            " [1. 0. 0.]\n",
            " [0. 1. 0.]\n",
            " [0. 0. 1.]\n",
            " [0. 1. 0.]\n",
            " [0. 1. 0.]\n",
            " [1. 0. 0.]\n",
            " [0. 0. 1.]\n",
            " [1. 0. 0.]\n",
            " [1. 0. 0.]\n",
            " [1. 0. 0.]\n",
            " [0. 0. 1.]\n",
            " [0. 0. 1.]\n",
            " [0. 1. 0.]\n",
            " [0. 1. 0.]\n",
            " [0. 0. 1.]\n",
            " [0. 0. 1.]\n",
            " [0. 0. 1.]\n",
            " [0. 1. 0.]\n",
            " [0. 0. 1.]\n",
            " [0. 0. 1.]\n",
            " [0. 1. 0.]\n",
            " [0. 1. 0.]\n",
            " [0. 0. 1.]\n",
            " [0. 0. 1.]\n",
            " [0. 0. 1.]\n",
            " [1. 0. 0.]\n",
            " [0. 1. 0.]\n",
            " [0. 1. 0.]\n",
            " [0. 1. 0.]\n",
            " [0. 1. 0.]\n",
            " [0. 0. 1.]\n",
            " [0. 0. 1.]\n",
            " [1. 0. 0.]\n",
            " [1. 0. 0.]\n",
            " [0. 0. 1.]\n",
            " [0. 1. 0.]\n",
            " [1. 0. 0.]\n",
            " [1. 0. 0.]\n",
            " [0. 0. 1.]]\n"
          ]
        }
      ],
      "source": [
        "# вероятность отнесения к классу\n",
        "print(classifier.predict_proba(X_test))"
      ]
    },
    {
      "cell_type": "code",
      "execution_count": null,
      "id": "935b9094",
      "metadata": {
        "colab": {
          "base_uri": "https://localhost:8080/"
        },
        "id": "935b9094",
        "outputId": "e1655c49-49ab-4ae9-ec43-fce53c131584"
      },
      "outputs": [
        {
          "output_type": "stream",
          "name": "stderr",
          "text": [
            "/usr/local/lib/python3.10/dist-packages/sklearn/preprocessing/_data.py:2785: UserWarning: n_quantiles (1000) is greater than the total number of samples (75). n_quantiles is set to n_samples.\n",
            "  warnings.warn(\n"
          ]
        },
        {
          "output_type": "stream",
          "name": "stdout",
          "text": [
            "                Classifier        Scaler Method  Accuracy\n",
            "0     KNeighborsClassifier       StandardScaler  0.653333\n",
            "1   DecisionTreeClassifier       StandardScaler  0.680000\n",
            "2       LogisticRegression       StandardScaler  0.693333\n",
            "3   RandomForestClassifier       StandardScaler  0.693333\n",
            "4                      SVC       StandardScaler  0.706667\n",
            "5     KNeighborsClassifier         MinMaxScaler  0.706667\n",
            "6   DecisionTreeClassifier         MinMaxScaler  0.680000\n",
            "7       LogisticRegression         MinMaxScaler  0.640000\n",
            "8   RandomForestClassifier         MinMaxScaler  0.693333\n",
            "9                      SVC         MinMaxScaler  0.706667\n",
            "10    KNeighborsClassifier         MaxAbsScaler  0.666667\n",
            "11  DecisionTreeClassifier         MaxAbsScaler  0.680000\n",
            "12      LogisticRegression         MaxAbsScaler  0.586667\n",
            "13  RandomForestClassifier         MaxAbsScaler  0.693333\n",
            "14                     SVC         MaxAbsScaler  0.706667\n",
            "15    KNeighborsClassifier         RobustScaler  0.653333\n",
            "16  DecisionTreeClassifier         RobustScaler  0.693333\n",
            "17      LogisticRegression         RobustScaler  0.680000\n",
            "18  RandomForestClassifier         RobustScaler  0.693333\n",
            "19                     SVC         RobustScaler  0.706667\n",
            "20    KNeighborsClassifier           Normalizer  0.640000\n",
            "21  DecisionTreeClassifier           Normalizer  0.640000\n",
            "22      LogisticRegression           Normalizer  0.573333\n",
            "23  RandomForestClassifier           Normalizer  0.626667\n",
            "24                     SVC           Normalizer  0.600000\n",
            "25    KNeighborsClassifier     PowerTransformer  0.666667\n",
            "26  DecisionTreeClassifier     PowerTransformer  0.693333\n",
            "27      LogisticRegression     PowerTransformer  0.693333\n",
            "28  RandomForestClassifier     PowerTransformer  0.666667\n",
            "29                     SVC     PowerTransformer  0.720000\n",
            "30    KNeighborsClassifier  QuantileTransformer  0.666667\n",
            "31  DecisionTreeClassifier  QuantileTransformer  0.680000\n",
            "32      LogisticRegression  QuantileTransformer  0.693333\n",
            "33  RandomForestClassifier  QuantileTransformer  0.666667\n",
            "34                     SVC  QuantileTransformer  0.720000\n"
          ]
        }
      ],
      "source": [
        "#Задача 1.\n",
        "#Исследовать качество работы классификаторы в зависимости от выбранного метода преобразования данных\n",
        "#Изучить методы преобразования данных: from sklearn.preprocessing https://scikit-learn.org/stable/modules/preprocessing.html\n",
        "#Критерий качества - accuracy\n",
        "#Сформировать таблицу для сравнения\n",
        "import pandas as pd\n",
        "import numpy as np\n",
        "from sklearn.datasets import load_iris\n",
        "from sklearn.model_selection import train_test_split\n",
        "from sklearn.preprocessing import StandardScaler, MinMaxScaler, MaxAbsScaler, RobustScaler\n",
        "from sklearn.preprocessing import Normalizer, PowerTransformer, QuantileTransformer\n",
        "from sklearn.neighbors import KNeighborsClassifier\n",
        "from sklearn.tree import DecisionTreeClassifier\n",
        "from sklearn.linear_model import LogisticRegression\n",
        "from sklearn.ensemble import RandomForestClassifier\n",
        "from sklearn.svm import SVC\n",
        "from sklearn.metrics import accuracy_score\n",
        "\n",
        "# Загружаем данные\n",
        "iris = load_iris()\n",
        "iris_data = iris.data[:, :2]  # Используем только 2 первых признака для простоты\n",
        "y = iris.target\n",
        "\n",
        "# Результаты\n",
        "results = {'Classifier': [], 'Scaler Method': [], 'Accuracy': []}\n",
        "\n",
        "# Определяем методы преобразования\n",
        "scalers = {\n",
        "    'StandardScaler': StandardScaler(),\n",
        "    'MinMaxScaler': MinMaxScaler(),\n",
        "    'MaxAbsScaler': MaxAbsScaler(),\n",
        "    'RobustScaler': RobustScaler(),\n",
        "    'Normalizer': Normalizer(),\n",
        "    'PowerTransformer': PowerTransformer(),\n",
        "    'QuantileTransformer': QuantileTransformer(output_distribution='uniform', random_state=0)\n",
        "}\n",
        "\n",
        "# Определяем классификаторы\n",
        "classifiers = {\n",
        "    'KNeighborsClassifier': KNeighborsClassifier(n_neighbors=1),\n",
        "    'DecisionTreeClassifier': DecisionTreeClassifier(random_state=0),\n",
        "    'LogisticRegression': LogisticRegression(max_iter=200),\n",
        "    'RandomForestClassifier': RandomForestClassifier(random_state=0),\n",
        "    'SVC': SVC()\n",
        "}\n",
        "\n",
        "# Перебираем каждый метод преобразования и классификатор\n",
        "for scaler_name, scaler in scalers.items():\n",
        "    # Разделяем данные на обучающую и тестовую выборки\n",
        "    X_train, X_test, y_train, y_test = train_test_split(iris_data, y, test_size=0.5, random_state=0)\n",
        "\n",
        "    # Применяем масштабирование\n",
        "    X_train_scaled = scaler.fit_transform(X_train)\n",
        "    X_test_scaled = scaler.transform(X_test)\n",
        "\n",
        "    for classifier_name, classifier in classifiers.items():\n",
        "        # Обучаем классификатор\n",
        "        classifier.fit(X_train_scaled, y_train)\n",
        "\n",
        "        # Предсказываем и вычисляем точность\n",
        "        y_pred = classifier.predict(X_test_scaled)\n",
        "        accuracy = accuracy_score(y_test, y_pred)\n",
        "\n",
        "        # Сохраняем результаты\n",
        "        results['Classifier'].append(classifier_name)\n",
        "        results['Scaler Method'].append(scaler_name)\n",
        "        results['Accuracy'].append(accuracy)\n",
        "\n",
        "# Преобразуем результаты в DataFrame и отображаем\n",
        "results_df = pd.DataFrame(results)\n",
        "print(results_df)"
      ]
    }
  ],
  "metadata": {
    "kernelspec": {
      "display_name": "Python 3 (ipykernel)",
      "language": "python",
      "name": "python3"
    },
    "language_info": {
      "codemirror_mode": {
        "name": "ipython",
        "version": 3
      },
      "file_extension": ".py",
      "mimetype": "text/x-python",
      "name": "python",
      "nbconvert_exporter": "python",
      "pygments_lexer": "ipython3",
      "version": "3.10.4"
    },
    "colab": {
      "provenance": []
    }
  },
  "nbformat": 4,
  "nbformat_minor": 5
}